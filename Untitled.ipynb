{
 "cells": [
  {
   "cell_type": "code",
   "execution_count": 141,
   "metadata": {
    "collapsed": false
   },
   "outputs": [],
   "source": [
    "import nltk\n",
    "from nltk.collocations import *\n",
    "trigram_measures = nltk.collocations.TrigramAssocMeasures()\n",
    "stopwords=nltk.corpus.stopwords.words('russian')"
   ]
  },
  {
   "cell_type": "code",
   "execution_count": 142,
   "metadata": {
    "collapsed": false,
    "scrolled": false
   },
   "outputs": [],
   "source": [
    "import csv\n",
    "sentences=[]\n",
    "with open('Downloads/court-V-N.csv', newline='') as csvfile:\n",
    "    courtreader = csv.reader(csvfile, delimiter=' ', quotechar='|')\n",
    "    for row in courtreader:\n",
    "        sentences.extend(''.join(row).split(','))"
   ]
  },
  {
   "cell_type": "code",
   "execution_count": 143,
   "metadata": {
    "collapsed": false
   },
   "outputs": [],
   "source": [
    "finder = TrigramCollocationFinder.from_words(sentences)\n",
    "finder.apply_word_filter(lambda w: len(w) < 3 or w.lower() in stopwords)"
   ]
  },
  {
   "cell_type": "code",
   "execution_count": 144,
   "metadata": {
    "collapsed": true
   },
   "outputs": [],
   "source": [
    "from nltk.metrics.spearman import *"
   ]
  },
  {
   "cell_type": "code",
   "execution_count": 160,
   "metadata": {
    "collapsed": false
   },
   "outputs": [
    {
     "data": {
      "text/plain": [
       "[(('СУД', 'УДОВЛЕТВОРИТЬ', 'ИСК'), 0),\n",
       " (('СУД', 'ПРИНЯТЬ', 'РЕШЕНИЕ'), 1),\n",
       " (('СУД', 'УДОВЛЕТВОРИТЬ', 'ХОДАТАЙСТВО'), 2),\n",
       " (('СУД', 'ВЫДАТЬ', 'САНКЦИЯ'), 3),\n",
       " (('СУД', 'ПРИЗНАТЬ', 'ВИНОВНАЯ'), 4),\n",
       " (('СУД', 'ВЫНЕСТИ', 'РЕШЕНИЕ'), 5),\n",
       " (('СУД', 'НАЛОЖИТЬ', 'АРЕСТ'), 6),\n",
       " (('СУД', 'САНКЦИОНИРОВАТЬ', 'АРЕСТ'), 7),\n",
       " (('СУД', 'ОТКАЗАТЬ', 'УДОВЛЕТВОРЕНИЕ'), 8),\n",
       " (('СУД', 'ПРИЗНАТЬ', 'ПРАВОТА'), 9)]"
      ]
     },
     "execution_count": 160,
     "metadata": {},
     "output_type": "execute_result"
    }
   ],
   "source": [
    "scored_trigrams = finder.score_ngrams(trigram_measures.student_t)\n",
    "scored_trigrams=[i for i in scored_trigrams if i[0][0]=='СУД']\n",
    "scored_results_student=ranks_from_scores(sorted(scored_trigrams, key = lambda x: x[1], reverse=True)[:10])\n",
    "list(scored_results_student)"
   ]
  },
  {
   "cell_type": "code",
   "execution_count": 161,
   "metadata": {
    "collapsed": false
   },
   "outputs": [
    {
     "data": {
      "text/plain": [
       "[(('СУД', 'ПРИЗНАТЬ', 'РЕШЕНИЕ'), 0),\n",
       " (('СУД', 'УДОВЛЕТВОРИТЬ', 'ИСК'), 0),\n",
       " (('СУД', 'ПРИЗНАТЬ', 'ВИНОВНАЯ'), 2),\n",
       " (('СУД', 'УДОВЛЕТВОРИТЬ', 'ХОДАТАЙСТВО'), 2),\n",
       " (('СУД', 'ПРИНЯТЬ', 'РЕШЕНИЕ'), 2),\n",
       " (('СУД', 'ПРИЗНАТЬ', 'ПРАВОТА'), 2),\n",
       " (('СУД', 'ПРИЗНАТЬ', 'ДОВОД'), 6),\n",
       " (('СУД', 'ВЫНЕСТИ', 'РЕШЕНИЕ'), 6),\n",
       " (('СУД', 'ПРИЗНАТЬ', 'ПРОВЕДЕНИЕ'), 6),\n",
       " (('СУД', 'ПРИЗНАТЬ', 'ЗАБАСТОВКА'), 6)]"
      ]
     },
     "execution_count": 161,
     "metadata": {},
     "output_type": "execute_result"
    }
   ],
   "source": [
    "scored_trigrams_llr = finder.score_ngrams(trigram_measures.likelihood_ratio)\n",
    "scored_trigrams_llr=[i for i in scored_trigrams_llr if i[0][0]=='СУД' and 'СУД' not in i[0][1:]]\n",
    "scored_results_llr=ranks_from_scores(sorted(scored_trigrams_llr, key = lambda x: x[1], reverse=True)[:10], rank_gap=25)\n",
    "list(scored_results_llr)"
   ]
  },
  {
   "cell_type": "code",
   "execution_count": 162,
   "metadata": {
    "collapsed": false
   },
   "outputs": [
    {
     "data": {
      "text/plain": [
       "[(('СУД', 'ПРИНЯТЬ', 'РЕШЕНИЕ'), 0),\n",
       " (('СУД', 'УДОВЛЕТВОРИТЬ', 'ИСК'), 1),\n",
       " (('СУД', 'ПРИЗНАТЬ', 'ВИНОВНЫЙ'), 2),\n",
       " (('СУД', 'ОТКЛОНИТЬ', 'ИСК'), 3),\n",
       " (('СУД', 'РАССМОТРЕТЬ', 'ДЕЛО'), 4),\n",
       " (('СУД', 'РАССМОТРЕТЬ', 'ХОДАТАЙСТВО'), 5),\n",
       " (('СУД', 'ВЫНЕСТИ', 'РЕШЕНИЕ'), 6),\n",
       " (('СУД', 'УДОВЛЕТВОРИТЬ', 'ХОДАТАЙСТВО'), 7),\n",
       " (('СУД', 'ВЫНЕСТИ', 'РЕШЕНИЕ'), 8),\n",
       " (('СУД', 'ПРИЗНАТЬ', 'НЕВИНОВНЫЙ'), 9)]"
      ]
     },
     "execution_count": 162,
     "metadata": {},
     "output_type": "execute_result"
    }
   ],
   "source": [
    "import codecs\n",
    "golden=[]\n",
    "text=codecs.open('Downloads/golden.txt')\n",
    "for line in text:\n",
    "    golden.append(tuple(line.upper().split()))\n",
    "scored_golden=ranks_from_sequence(golden)\n",
    "list(scored_golden)"
   ]
  },
  {
   "cell_type": "code",
   "execution_count": 163,
   "metadata": {
    "collapsed": false
   },
   "outputs": [
    {
     "name": "stdout",
     "output_type": "stream",
     "text": [
      "-6.5\n"
     ]
    }
   ],
   "source": [
    "print('%0.1f' % spearman_correlation(ranks_from_scores(sorted(scored_trigrams, key = lambda x: x[1], reverse=True)[:10], rank_gap=.25), ranks_from_sequence(golden)))"
   ]
  },
  {
   "cell_type": "code",
   "execution_count": 164,
   "metadata": {
    "collapsed": false
   },
   "outputs": [
    {
     "name": "stdout",
     "output_type": "stream",
     "text": [
      "-2.4\n"
     ]
    }
   ],
   "source": [
    "print('%0.1f' % spearman_correlation(ranks_from_scores(sorted(scored_trigrams_llr, key = lambda x: x[1], reverse=True)[:10], rank_gap=25), ranks_from_sequence(golden)))"
   ]
  },
  {
   "cell_type": "code",
   "execution_count": 165,
   "metadata": {
    "collapsed": false
   },
   "outputs": [
    {
     "name": "stdout",
     "output_type": "stream",
     "text": [
      "-0.2\n"
     ]
    }
   ],
   "source": [
    "print('%0.1f' % spearman_correlation(ranks_from_scores(sorted(scored_trigrams_llr, key = lambda x: x[1], reverse=True)[:10], rank_gap=25), ranks_from_scores(sorted(scored_trigrams, key = lambda x: x[1], reverse=True)[:10], rank_gap=.25)))"
   ]
  },
  {
   "cell_type": "code",
   "execution_count": 166,
   "metadata": {
    "collapsed": false
   },
   "outputs": [
    {
     "name": "stdout",
     "output_type": "stream",
     "text": [
      "1.0\n"
     ]
    }
   ],
   "source": [
    "print('%0.1f' % spearman_correlation(ranks_from_sequence(golden), ranks_from_sequence(golden)))"
   ]
  },
  {
   "cell_type": "markdown",
   "metadata": {},
   "source": [
    "Методы и выводы:\n",
    "\n",
    "1. Я использовала в качестве метрик критерий Стьюдента и loglikelihood.\n",
    "2. Полученные результаты имеют отрицательную корреляцию с моим золотым стандартом. Мне кажется, я плохо ранжировала золотой стандарт.\n",
    "3. Результаты, посчитанные при помощи разных метрик, очень слабо коррелируют друг с другом."
   ]
  }
 ],
 "metadata": {
  "kernelspec": {
   "display_name": "Python 3",
   "language": "python",
   "name": "python3"
  },
  "language_info": {
   "codemirror_mode": {
    "name": "ipython",
    "version": 3
   },
   "file_extension": ".py",
   "mimetype": "text/x-python",
   "name": "python",
   "nbconvert_exporter": "python",
   "pygments_lexer": "ipython3",
   "version": "3.5.2"
  }
 },
 "nbformat": 4,
 "nbformat_minor": 2
}
