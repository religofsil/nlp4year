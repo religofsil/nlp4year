{
 "cells": [
  {
   "cell_type": "code",
   "execution_count": 1,
   "metadata": {
    "collapsed": true
   },
   "outputs": [],
   "source": [
    "sentences = ['Электорат самой оппозиционной партии демонстрирует приверженность к идеалам государства, чужд революционных настроений',\n",
    "            'Как стало известно \"Совершенно секретно\", партия власти всерьёз намерена \"засучить рукава\".',\n",
    "            'Изъятие крупной партии наркотиков стало первой удачной операцией Приморского УБНОН в новом году.',\n",
    "            'В тридцатых годах был даже случай, когда санитарный врач одного из областных городов распорядился сжечь партию рокфора, решив, что сыр испорчен.']"
   ]
  },
  {
   "cell_type": "code",
   "execution_count": 2,
   "metadata": {
    "collapsed": true
   },
   "outputs": [],
   "source": [
    "def dice_coefficient(a, b):\n",
    "    \"\"\"dice coefficient 2nt/na + nb.\"\"\"\n",
    "    a_bigrams = set(a)\n",
    "    b_bigrams = set(b)\n",
    "    overlap = len(a_bigrams & b_bigrams)\n",
    "    return overlap * 2.0/(len(a_bigrams) + len(b_bigrams))"
   ]
  },
  {
   "cell_type": "code",
   "execution_count": 3,
   "metadata": {
    "collapsed": true
   },
   "outputs": [],
   "source": [
    "import pymorphy2\n",
    "from string import punctuation\n",
    "morph = pymorphy2.MorphAnalyzer()\n",
    "def morpholog(words):\n",
    "    return [morph.parse(word)[0].normal_form for word in words]\n",
    "translation = str.maketrans(\"\",\"\", punctuation)\n",
    "sentences = [i.lower().translate(translation).split() for i in sentences]\n",
    "sentences = [morpholog(i) for i in sentences]"
   ]
  },
  {
   "cell_type": "code",
   "execution_count": 7,
   "metadata": {
    "collapsed": false
   },
   "outputs": [
    {
     "name": "stdout",
     "output_type": "stream",
     "text": [
      "0\n",
      "1\n",
      "2\n",
      "3\n",
      "4\n",
      "5\n",
      "6\n",
      "7\n",
      "8\n",
      "9\n",
      "10\n",
      "0\n",
      "1\n",
      "2\n",
      "3\n",
      "4\n",
      "5\n",
      "6\n",
      "7\n",
      "8\n",
      "9\n"
     ]
    }
   ],
   "source": [
    "a = []\n",
    "for arr in sentences[:2]:\n",
    "    for i in range(len(arr)-1):\n",
    "        a.append(arr[i]+' '+arr[i+1])\n",
    "b = []\n",
    "for arr in sentences[2:]:\n",
    "    for i in range(len(arr)-1):\n",
    "        b.append(arr[i]+' '+arr[i+1])"
   ]
  },
  {
   "cell_type": "code",
   "execution_count": 8,
   "metadata": {
    "collapsed": false
   },
   "outputs": [
    {
     "data": {
      "text/plain": [
       "['электорат самый',\n",
       " 'самый оппозиционный',\n",
       " 'оппозиционный партия',\n",
       " 'партия демонстрировать',\n",
       " 'демонстрировать приверженность',\n",
       " 'приверженность к',\n",
       " 'к идеал',\n",
       " 'идеал государство',\n",
       " 'государство чуждый',\n",
       " 'чуждый революционный',\n",
       " 'революционный настроение',\n",
       " 'как стать',\n",
       " 'стать известно',\n",
       " 'известно совершенно',\n",
       " 'совершенно секретно',\n",
       " 'секретно партия',\n",
       " 'партия власть',\n",
       " 'власть всерьёз',\n",
       " 'всерьёз намерить',\n",
       " 'намерить засучить',\n",
       " 'засучить рукав']"
      ]
     },
     "execution_count": 8,
     "metadata": {},
     "output_type": "execute_result"
    }
   ],
   "source": [
    "a"
   ]
  },
  {
   "cell_type": "code",
   "execution_count": 9,
   "metadata": {
    "collapsed": false
   },
   "outputs": [
    {
     "data": {
      "text/plain": [
       "0.0"
      ]
     },
     "execution_count": 9,
     "metadata": {},
     "output_type": "execute_result"
    }
   ],
   "source": [
    "dice_coefficient(a, b)"
   ]
  },
  {
   "cell_type": "code",
   "execution_count": null,
   "metadata": {
    "collapsed": true
   },
   "outputs": [],
   "source": []
  }
 ],
 "metadata": {
  "kernelspec": {
   "display_name": "Python 3",
   "language": "python",
   "name": "python3"
  },
  "language_info": {
   "codemirror_mode": {
    "name": "ipython",
    "version": 3
   },
   "file_extension": ".py",
   "mimetype": "text/x-python",
   "name": "python",
   "nbconvert_exporter": "python",
   "pygments_lexer": "ipython3",
   "version": "3.5.2"
  }
 },
 "nbformat": 4,
 "nbformat_minor": 2
}
