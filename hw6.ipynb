{
 "cells": [
  {
   "cell_type": "code",
   "execution_count": 25,
   "metadata": {
    "collapsed": false
   },
   "outputs": [],
   "source": [
    "import os\n",
    "import pymorphy2\n",
    "import numpy as np\n",
    "from nltk.corpus import stopwords\n",
    "from string import punctuation"
   ]
  },
  {
   "cell_type": "code",
   "execution_count": 21,
   "metadata": {
    "collapsed": true
   },
   "outputs": [],
   "source": [
    "import sys\n",
    "import gensim, logging\n",
    "\n",
    "logging.basicConfig(format='%(asctime)s : %(levelname)s : %(message)s', level=logging.INFO)"
   ]
  },
  {
   "cell_type": "code",
   "execution_count": 51,
   "metadata": {
    "collapsed": false
   },
   "outputs": [],
   "source": [
    "import pandas as pd"
   ]
  },
  {
   "cell_type": "code",
   "execution_count": 15,
   "metadata": {
    "collapsed": true
   },
   "outputs": [],
   "source": [
    "import re"
   ]
  },
  {
   "cell_type": "code",
   "execution_count": 11,
   "metadata": {
    "collapsed": false
   },
   "outputs": [],
   "source": [
    "stop = stopwords.words('russian')"
   ]
  },
  {
   "cell_type": "code",
   "execution_count": 28,
   "metadata": {
    "collapsed": false
   },
   "outputs": [
    {
     "name": "stderr",
     "output_type": "stream",
     "text": [
      "2017-03-29 22:15:25,463 : INFO : Loading dictionaries from /usr/local/lib/python3.5/dist-packages/pymorphy2_dicts/data\n",
      "2017-03-29 22:15:33,880 : INFO : format: 2.4, revision: 393442, updated: 2015-01-17T16:03:56.586168\n"
     ]
    }
   ],
   "source": [
    "morph = pymorphy2.MorphAnalyzer()"
   ]
  },
  {
   "cell_type": "code",
   "execution_count": 43,
   "metadata": {
    "collapsed": false
   },
   "outputs": [],
   "source": [
    "d = {}\n",
    "izvest = []\n",
    "tehmol = []\n",
    "anekdots = []\n",
    "for root, dirs, files in os.walk('hw6-texts'):\n",
    "    for file in files:\n",
    "        if '/teh_mol/' in os.path.join(root, file):\n",
    "            tehmol.append(open(os.path.join(root, file)).read())\n",
    "        elif '/izvest/' in os.path.join(root, file):\n",
    "            izvest.append(open(os.path.join(root, file)).read())\n",
    "        else:\n",
    "            anekdots.append(open(os.path.join(root, file)).read())\n",
    "        #print(file, d[file])"
   ]
  },
  {
   "cell_type": "code",
   "execution_count": 23,
   "metadata": {
    "collapsed": false
   },
   "outputs": [
    {
     "name": "stderr",
     "output_type": "stream",
     "text": [
      "2017-03-29 20:51:03,410 : INFO : loading projection weights from ruscorpora_1_300_10.bin.gz\n",
      "2017-03-29 20:52:17,567 : INFO : loaded (184973, 300) matrix from ruscorpora_1_300_10.bin.gz\n"
     ]
    }
   ],
   "source": [
    "m = 'ruscorpora_1_300_10.bin.gz'\n",
    "if m.endswith('.vec.gz'):\n",
    "    model = gensim.models.Word2Vec.load_word2vec_format(m, binary=False)\n",
    "elif m.endswith('.bin.gz'):\n",
    "    model = gensim.models.KeyedVectors.load_word2vec_format(m, binary=True)\n",
    "else:\n",
    "    model = gensim.models.Word2Vec.load(m)"
   ]
  },
  {
   "cell_type": "code",
   "execution_count": 38,
   "metadata": {
    "collapsed": false
   },
   "outputs": [
    {
     "name": "stderr",
     "output_type": "stream",
     "text": [
      "2017-03-29 22:30:14,569 : INFO : precomputing L2-norms of word weight vectors\n"
     ]
    }
   ],
   "source": [
    "model.init_sims(replace=True)"
   ]
  },
  {
   "cell_type": "code",
   "execution_count": 41,
   "metadata": {
    "collapsed": false
   },
   "outputs": [
    {
     "data": {
      "text/plain": [
       "array([-0.02321471,  0.00596449,  0.02933581, -0.01512913,  0.00654654,\n",
       "       -0.00030561,  0.01774949,  0.02480726, -0.00544954, -0.02032459,\n",
       "       -0.00751817, -0.01634403,  0.027398  ,  0.000829  ,  0.00706642,\n",
       "       -0.01488593,  0.00108798,  0.01233504,  0.03739146,  0.00833952,\n",
       "        0.04072807, -0.01425894,  0.01527308,  0.02892763, -0.0100497 ,\n",
       "       -0.01975117,  0.00811037, -0.02558992, -0.0214788 , -0.03356385,\n",
       "       -0.00093852,  0.01987472,  0.0641589 , -0.00742231, -0.0203022 ,\n",
       "       -0.01246664,  0.01040726, -0.01347763,  0.01489009, -0.01997107,\n",
       "        0.04748747,  0.00886253,  0.03080262, -0.02744259,  0.01133794,\n",
       "        0.01501525,  0.02955781, -0.00924788,  0.05759448, -0.01838891,\n",
       "        0.00307633,  0.00933181,  0.01048271, -0.00962422,  0.01636022,\n",
       "       -0.01671817, -0.0254766 ,  0.01933217, -0.05067044, -0.00870224,\n",
       "       -0.00912203,  0.01586975,  0.00792406, -0.03559281,  0.00709056,\n",
       "       -0.00589136, -0.07270867,  0.04466733, -0.00644757,  0.02495095,\n",
       "       -0.01554615,  0.00284882, -0.00441803, -0.05191436, -0.03897889,\n",
       "        0.00924356,  0.02038183, -0.04718071,  0.01150561, -0.02366324,\n",
       "       -0.01435278,  0.04131621,  0.01150168, -0.02402425, -0.04143113,\n",
       "        0.00811527, -0.0186423 ,  0.03334864,  0.00511692, -0.02754652,\n",
       "       -0.01608087,  0.00708263,  0.0199609 , -0.01471586,  0.03819632,\n",
       "       -0.00435416, -0.01372056,  0.00689594, -0.01882644,  0.00908221,\n",
       "       -0.03231006,  0.01160665, -0.00980176,  0.01311576, -0.03435698,\n",
       "        0.02943031, -0.02127342,  0.02093995,  0.01405873,  0.01503724,\n",
       "        0.04534449,  0.00033437, -0.03358701, -0.01806393, -0.01408432,\n",
       "       -0.01573159,  0.02703775, -0.00236806, -0.01438192,  0.0143871 ,\n",
       "        0.05250188, -0.01772251, -0.04340857, -0.01707697, -0.00703127,\n",
       "       -0.01126601, -0.0008358 , -0.00704401, -0.00166265, -0.00929332,\n",
       "       -0.04446223, -0.00780854, -0.02120301, -0.02082514, -0.04837126,\n",
       "        0.00019934, -0.01289524,  0.03419202,  0.02024855,  0.02229138,\n",
       "        0.02153972,  0.00032958,  0.00383852,  0.00234733, -0.00686311,\n",
       "       -0.01754561, -0.03618068,  0.00995265,  0.00509248,  0.01971623,\n",
       "       -0.00459563,  0.00522205, -0.00271996,  0.00315283,  0.00310302,\n",
       "       -0.01230607,  0.010191  , -0.0177315 , -0.00961428, -0.02619565,\n",
       "       -0.00297918,  0.00254532, -0.00498999, -0.01704047, -0.00924681,\n",
       "       -0.06341217, -0.01190284, -0.01058467, -0.00547416,  0.00032871,\n",
       "        0.01410297, -0.02290164,  0.00857389,  0.0220053 ,  0.02603441,\n",
       "        0.03774495,  0.02567436,  0.01697581, -0.01525581, -0.00906745,\n",
       "       -0.03350962,  0.02876616, -0.02625412, -0.01270591, -0.00530221,\n",
       "        0.00158551,  0.03116048, -0.04930287, -0.03417225, -0.0035925 ,\n",
       "       -0.00044285,  0.01970427, -0.04506097, -0.02464096,  0.0359175 ,\n",
       "       -0.0102629 ,  0.00860987, -0.01665079,  0.0141902 , -0.03519059,\n",
       "       -0.01611425, -0.02450004, -0.02838309, -0.01872043, -0.04900353,\n",
       "       -0.0218618 , -0.05954488,  0.00751444,  0.02056013,  0.03577306,\n",
       "       -0.00289826,  0.02433539, -0.03320043, -0.00329437, -0.02600636,\n",
       "        0.01995573, -0.02901354,  0.04102906,  0.01711916,  0.02437998,\n",
       "       -0.0191553 , -0.01104734,  0.01222344, -0.01664683,  0.01824226,\n",
       "       -0.03762274,  0.05696143,  0.07196796,  0.01475364,  0.01012789,\n",
       "        0.05695803,  0.00188622, -0.02827695,  0.05724754, -0.07809006,\n",
       "       -0.00097193, -0.05009382,  0.05056509, -0.06039819, -0.04303616,\n",
       "        0.06136341,  0.03646494, -0.01756183, -0.01573723, -0.06124875,\n",
       "        0.00586143,  0.03135753, -0.03075758, -0.00577519, -0.02004554,\n",
       "       -0.05474499, -0.03986667,  0.00876394,  0.05136099,  0.03213947,\n",
       "       -0.01566795,  0.07666194, -0.00679483,  0.06215129,  0.00470348,\n",
       "        0.0066752 ,  0.01353277, -0.02188006,  0.00721979,  0.00284243,\n",
       "        0.03699848, -0.00147704, -0.01162568, -0.02444129, -0.04931495,\n",
       "        0.01356601,  0.01403634,  0.00409041,  0.03952184,  0.00418161,\n",
       "        0.01041535,  0.03597726,  0.03135931, -0.01807143,  0.02807724,\n",
       "       -0.03240976, -0.00664144,  0.01005591, -0.00749205,  0.03519873,\n",
       "        0.01507363, -0.03507859,  0.00404296, -0.02427795,  0.0508392 ,\n",
       "       -0.00990216, -0.00270785, -0.00271211,  0.01164147, -0.02795258,\n",
       "       -0.01982967,  0.00755608,  0.02778259, -0.0256107 ,  0.01012055], dtype=float32)"
      ]
     },
     "execution_count": 41,
     "metadata": {},
     "output_type": "execute_result"
    }
   ],
   "source": [
    "def fix_text(text):\n",
    "    translation = str.maketrans(\"\",\"\", punctuation)\n",
    "    text = text.lower().translate(translation)\n",
    "    text = text.split()\n",
    "    t = []\n",
    "    for i in text:\n",
    "        if i not in stop:\n",
    "            p = morph.parse(i)[0]\n",
    "            try:\n",
    "                t.append(p.normal_form+'_'+p.tag.POS)\n",
    "            except TypeError:\n",
    "                pass\n",
    "    fin = []\n",
    "    for w in t:\n",
    "        if w in model:\n",
    "            fin.append(model[w])\n",
    "    return(np.mean(fin, axis=0))\n",
    "    \n",
    "fix_text('''Завелся в лесу страшный зверек -- ебунчик. Совсем от него житья не стало, так он всех задолбал. И пошли звери с поклоном к Змею Горынычу.\n",
    "-- Выручай, -- говорят, -- трехголовый! Спасу нет от этого паразита, как отвлечешься -- он тут как тут, и деваться некуда...\n",
    "И пошел Змей разбираться с этим чудом в лес. Долго ли, коротко ли, вышел он на полянку, посреди полянки -- пенек, а на пеньке сидит кто-то.\n",
    "-- Ты кто такой? -- спрашивает Змей.\n",
    "-- Да вот, местные ебунчиком прозвали, -- отвечает зверек.\n",
    "Тут Змей как затопает, крыльями захлопает, огнем пышет, только что дым из ушей не пускает -- страх наводит. Пошумел, пошумел и грозно так спрашивает:\n",
    "-- Что, чучело, страшно?!\n",
    "-- Ой, страшно! -- ответил зверек. -- В первый раз такого страшного е**ть буду!''')"
   ]
  },
  {
   "cell_type": "markdown",
   "metadata": {},
   "source": [
    "преобразовываем тексты в вектора:"
   ]
  },
  {
   "cell_type": "code",
   "execution_count": 44,
   "metadata": {
    "collapsed": false
   },
   "outputs": [],
   "source": [
    "izvest = [fix_text(t) for t in izvest]\n",
    "tehmol = [fix_text(t) for t in tehmol]\n",
    "anekdots = [fix_text(t) for t in anekdots]"
   ]
  },
  {
   "cell_type": "code",
   "execution_count": 47,
   "metadata": {
    "collapsed": false
   },
   "outputs": [],
   "source": [
    "izvest = np.array(izvest)\n",
    "tehmol = np.array(tehmol)\n",
    "anekdots = np.array(anekdots)"
   ]
  },
  {
   "cell_type": "code",
   "execution_count": 48,
   "metadata": {
    "collapsed": false
   },
   "outputs": [
    {
     "data": {
      "text/plain": [
       "300"
      ]
     },
     "execution_count": 48,
     "metadata": {},
     "output_type": "execute_result"
    }
   ],
   "source": [
    "len(izvest[0])"
   ]
  },
  {
   "cell_type": "code",
   "execution_count": 49,
   "metadata": {
    "collapsed": true
   },
   "outputs": [],
   "source": [
    "cols = [str(i) for i in range(1, 301)]"
   ]
  },
  {
   "cell_type": "code",
   "execution_count": 56,
   "metadata": {
    "collapsed": false
   },
   "outputs": [],
   "source": [
    "iz_pd = pd.DataFrame(izvest, columns=cols)\n",
    "iz_pd['class'] = 0\n",
    "an_pd = pd.DataFrame(anekdots, columns=cols)\n",
    "an_pd['class'] = 1\n",
    "tc_pd = pd.DataFrame(tehmol, columns=cols)\n",
    "tc_pd['class'] = 2"
   ]
  },
  {
   "cell_type": "code",
   "execution_count": 61,
   "metadata": {
    "collapsed": false
   },
   "outputs": [],
   "source": [
    "alldata = pd.concat([iz_pd, an_pd, tc_pd])"
   ]
  },
  {
   "cell_type": "code",
   "execution_count": 67,
   "metadata": {
    "collapsed": false
   },
   "outputs": [],
   "source": [
    "from sklearn.model_selection import cross_val_score\n",
    "from sklearn.linear_model import LogisticRegression\n",
    "from sklearn.metrics import classification_report, make_scorer, precision_score, recall_score"
   ]
  },
  {
   "cell_type": "code",
   "execution_count": 69,
   "metadata": {
    "collapsed": false
   },
   "outputs": [
    {
     "name": "stdout",
     "output_type": "stream",
     "text": [
      "f1-score:  [ 0.91269841  0.86507937  0.89430894]\n"
     ]
    }
   ],
   "source": [
    "clf = LogisticRegression(penalty=\"l2\", solver=\"lbfgs\", multi_class=\"multinomial\", max_iter=300, n_jobs=4)\n",
    "print('f1-score: ', cross_val_score(clf, alldata.iloc[:, :-1], alldata['class'], scoring='f1_micro'))"
   ]
  },
  {
   "cell_type": "markdown",
   "metadata": {},
   "source": [
    "f1-мера при кросс-валидации"
   ]
  },
  {
   "cell_type": "code",
   "execution_count": 71,
   "metadata": {
    "collapsed": false
   },
   "outputs": [
    {
     "name": "stdout",
     "output_type": "stream",
     "text": [
      "             precision    recall  f1-score   support\n",
      "\n",
      "     izvest       0.85      0.87      0.86       122\n",
      "   anekdots       0.98      0.96      0.97       128\n",
      "     tecmol       0.86      0.86      0.86       125\n",
      "\n",
      "avg / total       0.90      0.90      0.90       375\n",
      "\n"
     ]
    }
   ],
   "source": [
    "clf.fit(alldata.iloc[:, :-1], alldata['class'])\n",
    "print(classification_report(clf.predict(alldata.iloc[:, :-1]), alldata['class'], target_names=['izvest', 'anekdots', 'tecmol']))"
   ]
  },
  {
   "cell_type": "markdown",
   "metadata": {},
   "source": [
    "оптимистичная оценка классификатора"
   ]
  }
 ],
 "metadata": {
  "kernelspec": {
   "display_name": "Python 3",
   "language": "python",
   "name": "python3"
  },
  "language_info": {
   "codemirror_mode": {
    "name": "ipython",
    "version": 3
   },
   "file_extension": ".py",
   "mimetype": "text/x-python",
   "name": "python",
   "nbconvert_exporter": "python",
   "pygments_lexer": "ipython3",
   "version": "3.5.2"
  }
 },
 "nbformat": 4,
 "nbformat_minor": 2
}
