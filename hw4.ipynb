{
 "cells": [
  {
   "cell_type": "code",
   "execution_count": 1,
   "metadata": {
    "collapsed": false
   },
   "outputs": [],
   "source": [
    "from nltk.corpus import wordnet"
   ]
  },
  {
   "cell_type": "code",
   "execution_count": 2,
   "metadata": {
    "collapsed": false
   },
   "outputs": [
    {
     "data": {
      "text/plain": [
       "[Synset('plant.n.01'),\n",
       " Synset('plant.n.02'),\n",
       " Synset('plant.n.03'),\n",
       " Synset('plant.n.04'),\n",
       " Synset('plant.v.01'),\n",
       " Synset('implant.v.01'),\n",
       " Synset('establish.v.02'),\n",
       " Synset('plant.v.04'),\n",
       " Synset('plant.v.05'),\n",
       " Synset('plant.v.06')]"
      ]
     },
     "execution_count": 2,
     "metadata": {},
     "output_type": "execute_result"
    }
   ],
   "source": [
    "wordnet.synsets('plant')"
   ]
  },
  {
   "cell_type": "code",
   "execution_count": 3,
   "metadata": {
    "collapsed": false
   },
   "outputs": [
    {
     "name": "stdout",
     "output_type": "stream",
     "text": [
      "buildings for carrying on industrial labor\n",
      "(botany) a living organism lacking the power of locomotion\n"
     ]
    }
   ],
   "source": [
    "set1 = wordnet.synset('plant.n.01')\n",
    "set2 = wordnet.synset('plant.n.02')\n",
    "for s in set1, set2:\n",
    "    print(s.definition())"
   ]
  },
  {
   "cell_type": "code",
   "execution_count": 4,
   "metadata": {
    "collapsed": true
   },
   "outputs": [],
   "source": [
    "from nltk.wsd import lesk"
   ]
  },
  {
   "cell_type": "code",
   "execution_count": 5,
   "metadata": {
    "collapsed": false
   },
   "outputs": [
    {
     "name": "stdout",
     "output_type": "stream",
     "text": [
      "(botany) a living organism lacking the power of locomotion\n",
      "an actor situated in the audience whose acting is rehearsed but seems spontaneous to the audience\n"
     ]
    }
   ],
   "source": [
    "sent1 = 'During this study, the mother was employed at a nearby chicken plant, along with the eldest brother'\n",
    "sent2 = 'Looking at a bright bouquet or a plant that can change daily brings life to someone who can not get out into nature'\n",
    "for s in sent1, sent2:\n",
    "    print(lesk(s.split(), 'plant', 'n').definition())"
   ]
  },
  {
   "cell_type": "markdown",
   "metadata": {},
   "source": [
    "Леск не работает. :("
   ]
  },
  {
   "cell_type": "code",
   "execution_count": 6,
   "metadata": {
    "collapsed": false
   },
   "outputs": [
    {
     "name": "stdout",
     "output_type": "stream",
     "text": [
      "[Synset('building_complex.n.01')]\n",
      "[Synset('organism.n.01')]\n"
     ]
    }
   ],
   "source": [
    "for s in set1, set2:\n",
    "    print(s.hypernyms())"
   ]
  },
  {
   "cell_type": "code",
   "execution_count": 22,
   "metadata": {
    "collapsed": false
   },
   "outputs": [
    {
     "name": "stdout",
     "output_type": "stream",
     "text": [
      "0.06666666666666667 ---- buildings for carrying on industrial labor ---- the people or companies engaged in a particular kind of commercial enterprise\n",
      "0.0625 ---- buildings for carrying on industrial labor ---- the organized action of making of goods and services for sale\n",
      "0.07142857142857142 ---- buildings for carrying on industrial labor ---- persevering determination to perform a task\n",
      "minimal path: 0.07142857142857142  buildings for carrying on industrial labor vs. the organized action of making of goods and services for sale\n"
     ]
    }
   ],
   "source": [
    "for i in wordnet.synsets('industry'):\n",
    "    print(str(set1.path_similarity(i))+ ' ---- '+ set1.definition() + ' ---- ' + i.definition())\n",
    "    \n",
    "print('minimal path: '+str(set1.path_similarity(wordnet.synset('diligence.n.02')))+'  '+set1.definition()+' vs. '+wordnet.synset('industry.n.02').definition())"
   ]
  },
  {
   "cell_type": "code",
   "execution_count": 24,
   "metadata": {
    "collapsed": false
   },
   "outputs": [
    {
     "name": "stdout",
     "output_type": "stream",
     "text": [
      "0.125 ---- (botany) a living organism lacking the power of locomotion ---- Synset('leaf.n.01')\n",
      "0.08333333333333333 ---- (botany) a living organism lacking the power of locomotion ---- Synset('leaf.n.02')\n",
      "0.125 ---- (botany) a living organism lacking the power of locomotion ---- Synset('leaf.n.03')\n",
      "None ---- (botany) a living organism lacking the power of locomotion ---- Synset('flick.v.02')\n",
      "None ---- (botany) a living organism lacking the power of locomotion ---- Synset('leaf.v.02')\n",
      "None ---- (botany) a living organism lacking the power of locomotion ---- Synset('leaf.v.03')\n",
      "minimal path: 0.125  (botany) a living organism lacking the power of locomotion vs. the main organ of photosynthesis and transpiration in higher plants\n"
     ]
    }
   ],
   "source": [
    "for i in wordnet.synsets('leaf'):\n",
    "    print(str(set2.path_similarity(i))+ ' ---- '+ set2.definition() + ' ---- ' + str(i))\n",
    "    \n",
    "print('minimal path: '+str(set2.path_similarity(wordnet.synset('leaf.n.01')))+'  '+set2.definition()+' vs. '+wordnet.synset('leaf.n.01').definition())"
   ]
  },
  {
   "cell_type": "code",
   "execution_count": 9,
   "metadata": {
    "collapsed": true
   },
   "outputs": [],
   "source": [
    "for i in wordnet.synsets(\"rattlesnake's master\"):\n",
    "    print('DEFINITION: ' + i.definition())\n",
    "    print('path similarity to plant.n.02:'+str(set2.path_similarity(i)))\n",
    "    print('Leacock-Chodorow similarity similarity to plant.n.02:'+str(set2.lch_similarity(i)))\n",
    "    print('')"
   ]
  },
  {
   "cell_type": "code",
   "execution_count": 10,
   "metadata": {
    "collapsed": false
   },
   "outputs": [
    {
     "data": {
      "text/plain": [
       "[]"
      ]
     },
     "execution_count": 10,
     "metadata": {},
     "output_type": "execute_result"
    }
   ],
   "source": [
    "wordnet.synsets(\"rattlesnake's master\")"
   ]
  },
  {
   "cell_type": "markdown",
   "metadata": {},
   "source": [
    "Нету значений для rattlesnake's master. :("
   ]
  },
  {
   "cell_type": "code",
   "execution_count": 20,
   "metadata": {
    "collapsed": false,
    "scrolled": true
   },
   "outputs": [
    {
     "name": "stdout",
     "output_type": "stream",
     "text": [
      "DEFINITIONS: a living thing that has (or can develop) the ability to act or function independently vs. all of something including all its component elements or parts\n",
      "path similarity:0.07692307692307693\n",
      "Leacock-Chodorow similarity:1.072636802264849\n",
      "\n",
      "DEFINITIONS: a living thing that has (or can develop) the ability to act or function independently vs. an assemblage of parts that is regarded as a single entity\n",
      "path similarity:0.3333333333333333\n",
      "Leacock-Chodorow similarity:2.538973871058276\n",
      "\n",
      "DEFINITIONS: a system considered analogous in structure or function to a living body vs. all of something including all its component elements or parts\n",
      "path similarity:0.1\n",
      "Leacock-Chodorow similarity:1.3350010667323402\n",
      "\n",
      "DEFINITIONS: a system considered analogous in structure or function to a living body vs. an assemblage of parts that is regarded as a single entity\n",
      "path similarity:0.125\n",
      "Leacock-Chodorow similarity:1.55814461804655\n",
      "\n"
     ]
    }
   ],
   "source": [
    "for i in wordnet.synsets(\"organism\"):\n",
    "    for n in wordnet.synsets(\"whole\"):\n",
    "        if i.pos() == n.pos():\n",
    "            print('DEFINITIONS: '+i.definition()+' vs. '+n.definition())\n",
    "            print('path similarity:'+str(n.path_similarity(i)))\n",
    "            print('Leacock-Chodorow similarity:'+str(n.lch_similarity(i)))\n",
    "            print('')"
   ]
  },
  {
   "cell_type": "markdown",
   "metadata": {},
   "source": [
    "Оба способа дают одинаковые результаты."
   ]
  }
 ],
 "metadata": {
  "kernelspec": {
   "display_name": "Python 3",
   "language": "python",
   "name": "python3"
  },
  "language_info": {
   "codemirror_mode": {
    "name": "ipython",
    "version": 3
   },
   "file_extension": ".py",
   "mimetype": "text/x-python",
   "name": "python",
   "nbconvert_exporter": "python",
   "pygments_lexer": "ipython3",
   "version": "3.5.2"
  }
 },
 "nbformat": 4,
 "nbformat_minor": 2
}
